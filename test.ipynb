{
 "metadata": {
  "language_info": {
   "codemirror_mode": {
    "name": "ipython",
    "version": 3
   },
   "file_extension": ".py",
   "mimetype": "text/x-python",
   "name": "python",
   "nbconvert_exporter": "python",
   "pygments_lexer": "ipython3",
   "version": "3.8.6-final"
  },
  "orig_nbformat": 2,
  "kernelspec": {
   "name": "python3",
   "display_name": "Python 3"
  }
 },
 "nbformat": 4,
 "nbformat_minor": 2,
 "cells": [
  {
   "cell_type": "code",
   "execution_count": 1,
   "metadata": {},
   "outputs": [],
   "source": [
    "import subprocess as sp\n",
    "import re\n"
   ]
  },
  {
   "cell_type": "code",
   "execution_count": 37,
   "metadata": {},
   "outputs": [
    {
     "output_type": "stream",
     "name": "stdout",
     "text": [
      "b'NAME=\"Ubuntu\"\\nVERSION=\"20.10 (Groovy Gorilla)\"\\nID=ubuntu\\nID_LIKE=debian\\nPRETTY_NAME=\"Ubuntu 20.10\"\\nVERSION_ID=\"20.10\"\\nHOME_URL=\"https://www.ubuntu.com/\"\\nSUPPORT_URL=\"https://help.ubuntu.com/\"\\nBUG_REPORT_URL=\"https://bugs.launchpad.net/ubuntu/\"\\nPRIVACY_POLICY_URL=\"https://www.ubuntu.com/legal/terms-and-policies/privacy-policy\"\\nVERSION_CODENAME=groovy\\nUBUNTU_CODENAME=groovy\\n'\n"
     ]
    }
   ],
   "source": [
    "p = sp.Popen([\"cat\", \"/etc/os-release\"], stdout=sp.PIPE, stderr=sp.PIPE)\n",
    "stdout, stderr = p.communicate()\n",
    "\n",
    "print(str(stdout))"
   ]
  },
  {
   "cell_type": "code",
   "execution_count": 38,
   "metadata": {},
   "outputs": [
    {
     "output_type": "execute_result",
     "data": {
      "text/plain": [
       "[('NAME', 'Ubuntu')]"
      ]
     },
     "metadata": {},
     "execution_count": 38
    }
   ],
   "source": [
    "searchSO = re.findall('(\\w+)\\s*=\\s*\\\"([\\w%-]+)\\\"', str(stdout))\n",
    "\n",
    "searchSO"
   ]
  },
  {
   "cell_type": "code",
   "execution_count": 39,
   "metadata": {},
   "outputs": [
    {
     "output_type": "execute_result",
     "data": {
      "text/plain": [
       "'Ubuntu'"
      ]
     },
     "metadata": {},
     "execution_count": 39
    }
   ],
   "source": [
    "for element in searchSO:\n",
    "    if element[0].lower() ==\"name\":\n",
    "        foundSO = element[1]\n",
    "        break\n",
    "foundSO"
   ]
  },
  {
   "cell_type": "code",
   "execution_count": 41,
   "metadata": {
    "tags": []
   },
   "outputs": [
    {
     "output_type": "execute_result",
     "data": {
      "text/plain": [
       "True"
      ]
     },
     "metadata": {},
     "execution_count": 41
    }
   ],
   "source": [
    "try:\n",
    "    if foundSO.lower() ==\"ubuntu\":\n",
    "        p = sp.Popen([\"apt\", \"list\"], stdout=sp.PIPE)\n",
    "        output = sp.check_output(['grep', 'python3-virtualenv'], stdin=p.stdout)\n",
    "        result = True if output else False\n",
    "    if foundSO.lower() ==\"fedora\":\n",
    "        p = sp.Popen([\"dnf\", \"list\"], stdout=sp.PIPE)\n",
    "        output = sp.check_output(['grep', 'python3-virtualenv'], stdin=p.stdout)\n",
    "        result = True if output else False\n",
    "except sp.CalledProcessError:\n",
    "    raise Exception(\"VirtualEnv no encontrado\")\n",
    "\n",
    "result"
   ]
  },
  {
   "cell_type": "code",
   "execution_count": 18,
   "metadata": {},
   "outputs": [
    {
     "output_type": "execute_result",
     "data": {
      "text/plain": [
       "1"
      ]
     },
     "metadata": {},
     "execution_count": 18
    }
   ],
   "source": [
    "choosenPM = \"ubuntu\"\n",
    "\n",
    "relationEnv = {\"fedora\":[\"dnf\", \"python\"], \"ubuntu\":[\"apt\",\"neofetch\"]}\n",
    "# p = sp.call(f\"sudo {relationEnv[choosenPM][0]} install -y {relationEnv[choosenPM][1]}\", shell=True)\n",
    "\n",
    "res = sp.call([\"sudo\", \"apt\", \"install\", \"neofetch\"], shell=True)\n",
    "\n",
    "res"
   ]
  },
  {
   "cell_type": "code",
   "execution_count": null,
   "metadata": {},
   "outputs": [],
   "source": []
  }
 ]
}